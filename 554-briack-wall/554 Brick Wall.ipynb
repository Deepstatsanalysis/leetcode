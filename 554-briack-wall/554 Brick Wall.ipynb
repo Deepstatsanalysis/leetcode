{
 "cells": [
  {
   "cell_type": "code",
   "execution_count": 124,
   "metadata": {},
   "outputs": [],
   "source": [
    "class Solution:\n",
    "    def leastBricks(self, wall):\n",
    "        \"\"\"\n",
    "        :type wall: List[List[int]]\n",
    "        :rtype: int\n",
    "        \"\"\"\n",
    "        cutting_count = {}\n",
    "        \n",
    "        for row in wall:\n",
    "            l = 0\n",
    "            for j in row[:-1]:\n",
    "                l += j\n",
    "                if l in cutting_count:\n",
    "                    cutting_count[l] += 1\n",
    "                else:\n",
    "                    cutting_count[l] = 1\n",
    "        \n",
    "        return len(wall) - max(cutting_count.values(), default=0)"
   ]
  },
  {
   "cell_type": "code",
   "execution_count": 125,
   "metadata": {},
   "outputs": [
    {
     "name": "stdout",
     "output_type": "stream",
     "text": [
      "2\n"
     ]
    }
   ],
   "source": [
    "s =  Solution()\n",
    "wall = [[1,2,2,1],\n",
    " [3,1,2],\n",
    " [1,3,2],\n",
    " [2,4],\n",
    " [3,1,2],\n",
    " [1,3,1,1]]\n",
    "#wall = [[100000000],[100000000],[100000000]]\n",
    "#wall = [[1 for i in range(10000)]]\n",
    "print(s.leastBricks(wall))"
   ]
  },
  {
   "cell_type": "code",
   "execution_count": 107,
   "metadata": {},
   "outputs": [
    {
     "data": {
      "text/plain": [
       "[1, 2, 3]"
      ]
     },
     "execution_count": 107,
     "metadata": {},
     "output_type": "execute_result"
    }
   ],
   "source": [
    "[1,2,3,4][:-1]"
   ]
  },
  {
   "cell_type": "code",
   "execution_count": null,
   "metadata": {},
   "outputs": [],
   "source": []
  }
 ],
 "metadata": {
  "kernelspec": {
   "display_name": "Python 3",
   "language": "python",
   "name": "python3"
  },
  "language_info": {
   "codemirror_mode": {
    "name": "ipython",
    "version": 3
   },
   "file_extension": ".py",
   "mimetype": "text/x-python",
   "name": "python",
   "nbconvert_exporter": "python",
   "pygments_lexer": "ipython3",
   "version": "3.6.5"
  }
 },
 "nbformat": 4,
 "nbformat_minor": 2
}
