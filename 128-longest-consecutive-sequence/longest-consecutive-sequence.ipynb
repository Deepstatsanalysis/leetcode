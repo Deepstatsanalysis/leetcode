{
 "cells": [
  {
   "cell_type": "code",
   "execution_count": 80,
   "metadata": {},
   "outputs": [],
   "source": [
    "class Solution:\n",
    "    def longestConsecutive(self, nums):\n",
    "        \"\"\"\n",
    "        :type nums: List[int]\n",
    "        :rtype: int\n",
    "        \"\"\"\n",
    "        if not nums: return 0\n",
    "        nums.sort()\n",
    "        last = None\n",
    "        ret = 0\n",
    "        current = 0\n",
    "        for i in nums:\n",
    "#             print('--------------')\n",
    "#             print(\"i = \", i)\n",
    "#             print(\"last = \", last)\n",
    "            if last == None:\n",
    "                ret = current = 1\n",
    "                last = i\n",
    "                continue\n",
    "            if i == last:\n",
    "#                 print(\" > i = \", i)\n",
    "#                 print(\" > last = \", last)\n",
    "                continue\n",
    "            if i - last == 1:\n",
    "                current += 1\n",
    "                ret = max(ret, current)\n",
    "            else:\n",
    "                current = 1\n",
    "            last = i\n",
    "                \n",
    "        return ret\n",
    "        "
   ]
  },
  {
   "cell_type": "code",
   "execution_count": 81,
   "metadata": {},
   "outputs": [
    {
     "name": "stdout",
     "output_type": "stream",
     "text": [
      "4\n",
      "1\n",
      "2\n",
      "3\n"
     ]
    }
   ],
   "source": [
    "s = Solution()\n",
    "data = [\n",
    "    [100, 4, 200, 1, 3, 2],\n",
    "    [0],\n",
    "    [0,0,-1],\n",
    "    [1,2,0,1]\n",
    "]\n",
    "\n",
    "for i in data:\n",
    "    print(s.longestConsecutive(i))"
   ]
  },
  {
   "cell_type": "code",
   "execution_count": 67,
   "metadata": {},
   "outputs": [
    {
     "data": {
      "text/plain": [
       "[1, 2, 3, 4, 100, 200]"
      ]
     },
     "execution_count": 67,
     "metadata": {},
     "output_type": "execute_result"
    }
   ],
   "source": [
    "a = [100, 4, 200, 1, 3, 2]\n",
    "a.sort()\n",
    "a"
   ]
  },
  {
   "cell_type": "code",
   "execution_count": null,
   "metadata": {},
   "outputs": [],
   "source": []
  }
 ],
 "metadata": {
  "kernelspec": {
   "display_name": "Python 3",
   "language": "python",
   "name": "python3"
  },
  "language_info": {
   "codemirror_mode": {
    "name": "ipython",
    "version": 3
   },
   "file_extension": ".py",
   "mimetype": "text/x-python",
   "name": "python",
   "nbconvert_exporter": "python",
   "pygments_lexer": "ipython3",
   "version": "3.6.5"
  }
 },
 "nbformat": 4,
 "nbformat_minor": 2
}
