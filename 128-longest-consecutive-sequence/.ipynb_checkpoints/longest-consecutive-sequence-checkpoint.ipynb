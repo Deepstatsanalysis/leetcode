{
 "cells": [
  {
   "cell_type": "code",
   "execution_count": 41,
   "metadata": {},
   "outputs": [],
   "source": [
    "class Solution:\n",
    "    def longestConsecutive(self, nums):\n",
    "        \"\"\"\n",
    "        :type nums: List[int]\n",
    "        :rtype: int\n",
    "        \"\"\"\n",
    "        if not nums: return 0\n",
    "        nums.sort()\n",
    "        last = None\n",
    "        ret = 0\n",
    "        current = 0\n",
    "        for i in nums:\n",
    "            if not last:\n",
    "                ret = current = 1\n",
    "                last = i\n",
    "                next\n",
    "            print(\"i = \", i)\n",
    "            if i - last == 1:\n",
    "                current += 1\n",
    "                ret = max(ret, current)\n",
    "            last = i\n",
    "                \n",
    "        return ret\n",
    "        "
   ]
  },
  {
   "cell_type": "code",
   "execution_count": 42,
   "metadata": {},
   "outputs": [
    {
     "name": "stdout",
     "output_type": "stream",
     "text": [
      "i =  -1\n",
      "i =  0\n",
      "i =  0\n",
      "1\n"
     ]
    }
   ],
   "source": [
    "s = Solution()\n",
    "data = [\n",
    "#     [100, 4, 200, 1, 3, 2],\n",
    "#     [0],\n",
    "    [0,0,-1]\n",
    "]\n",
    "\n",
    "for i in data:\n",
    "    print(s.longestConsecutive(i))"
   ]
  },
  {
   "cell_type": "code",
   "execution_count": 31,
   "metadata": {},
   "outputs": [
    {
     "data": {
      "text/plain": [
       "[1, 2, 3, 4, 100, 200]"
      ]
     },
     "execution_count": 31,
     "metadata": {},
     "output_type": "execute_result"
    }
   ],
   "source": [
    "a = [100, 4, 200, 1, 3, 2]\n",
    "a.sort()\n",
    "a"
   ]
  },
  {
   "cell_type": "code",
   "execution_count": null,
   "metadata": {},
   "outputs": [],
   "source": []
  }
 ],
 "metadata": {
  "kernelspec": {
   "display_name": "Python 3",
   "language": "python",
   "name": "python3"
  },
  "language_info": {
   "codemirror_mode": {
    "name": "ipython",
    "version": 3
   },
   "file_extension": ".py",
   "mimetype": "text/x-python",
   "name": "python",
   "nbconvert_exporter": "python",
   "pygments_lexer": "ipython3",
   "version": "3.6.5"
  }
 },
 "nbformat": 4,
 "nbformat_minor": 2
}
