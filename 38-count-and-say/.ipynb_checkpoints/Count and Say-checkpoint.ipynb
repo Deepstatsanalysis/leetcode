{
 "cells": [
  {
   "cell_type": "code",
   "execution_count": 31,
   "metadata": {},
   "outputs": [],
   "source": [
    "class Solution:\n",
    "    def countAndSay(self, n):\n",
    "        \"\"\"\n",
    "        :type n: int\n",
    "        :rtype: str\n",
    "        \"\"\"\n",
    "        if n == 0:\n",
    "            return \"\"        \n",
    "        last = \"1\"\n",
    "        for i in range(n):\n",
    "            last = self.say(last)\n",
    "                    \n",
    "        return last\n",
    "    \n",
    "    def say(self, last):\n",
    "        current, ret, count = last[0], '', 0\n",
    "        for x in last:\n",
    "            if x == current:\n",
    "                count += 1\n",
    "            else:\n",
    "                ret += str(count) + current\n",
    "                current = x\n",
    "                count = 1\n",
    "                            \n",
    "        return ret + str(count) + current"
   ]
  },
  {
   "cell_type": "code",
   "execution_count": 32,
   "metadata": {},
   "outputs": [
    {
     "name": "stdout",
     "output_type": "stream",
     "text": [
      "s.countAndSay(0) == \n",
      "s.countAndSay(1) == 11\n",
      "s.countAndSay(2) == 21\n",
      "s.countAndSay(3) == 1211\n",
      "s.countAndSay(4) == 111221\n",
      "s.countAndSay(5) == 312211\n",
      "s.countAndSay(6) == 13112221\n"
     ]
    }
   ],
   "source": [
    "s = Solution()\n",
    "n = 7\n",
    "for i in range(n):\n",
    "    print(\"s.countAndSay({}) == {}\".format(i, s.countAndSay(i)))\n"
   ]
  },
  {
   "cell_type": "code",
   "execution_count": null,
   "metadata": {},
   "outputs": [],
   "source": []
  }
 ],
 "metadata": {
  "kernelspec": {
   "display_name": "Python 3",
   "language": "python",
   "name": "python3"
  },
  "language_info": {
   "codemirror_mode": {
    "name": "ipython",
    "version": 3
   },
   "file_extension": ".py",
   "mimetype": "text/x-python",
   "name": "python",
   "nbconvert_exporter": "python",
   "pygments_lexer": "ipython3",
   "version": "3.6.5"
  }
 },
 "nbformat": 4,
 "nbformat_minor": 2
}
