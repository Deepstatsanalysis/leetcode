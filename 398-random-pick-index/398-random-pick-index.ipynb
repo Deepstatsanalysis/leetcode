{
 "cells": [
  {
   "cell_type": "code",
   "execution_count": 20,
   "metadata": {},
   "outputs": [],
   "source": [
    "import random\n",
    "\n",
    "class Solution:\n",
    "\n",
    "    def __init__(self, nums):\n",
    "        \"\"\"\n",
    "        :type nums: List[int]\n",
    "        \"\"\"\n",
    "        self.nums = nums\n",
    "        self.indices = {}\n",
    "\n",
    "        \n",
    "    def pick(self, target):\n",
    "        \"\"\"\n",
    "        :type target: int\n",
    "        :rtype: int\n",
    "        \"\"\"\n",
    "        if not target in self.indices:             \n",
    "            for i in range(len(self.nums)):\n",
    "                n = self.nums[i]\n",
    "                if n == target:\n",
    "                    if n in self.indices:\n",
    "                        self.indices[n].append(i)\n",
    "                    else:\n",
    "                        self.indices[n] = [i]\n",
    "\n",
    "        return random.choice(self.indices[target])\n",
    "\n"
   ]
  },
  {
   "cell_type": "code",
   "execution_count": 24,
   "metadata": {},
   "outputs": [
    {
     "name": "stdout",
     "output_type": "stream",
     "text": [
      "4\n"
     ]
    }
   ],
   "source": [
    "# Your Solution object will be instantiated and called as such:\n",
    "data = [\n",
    "    [3, [1,2,3,3,3]]\n",
    "]\n",
    "for d in data:\n",
    "    obj = Solution(d[1])\n",
    "    print(obj.pick(d[0]))"
   ]
  },
  {
   "cell_type": "code",
   "execution_count": 4,
   "metadata": {},
   "outputs": [
    {
     "data": {
      "text/plain": [
       "True"
      ]
     },
     "execution_count": 4,
     "metadata": {},
     "output_type": "execute_result"
    }
   ],
   "source": [
    "a = {'a': 1}\n",
    "'a' in a"
   ]
  },
  {
   "cell_type": "code",
   "execution_count": null,
   "metadata": {},
   "outputs": [],
   "source": []
  }
 ],
 "metadata": {
  "kernelspec": {
   "display_name": "Python 3",
   "language": "python",
   "name": "python3"
  },
  "language_info": {
   "codemirror_mode": {
    "name": "ipython",
    "version": 3
   },
   "file_extension": ".py",
   "mimetype": "text/x-python",
   "name": "python",
   "nbconvert_exporter": "python",
   "pygments_lexer": "ipython3",
   "version": "3.6.5"
  }
 },
 "nbformat": 4,
 "nbformat_minor": 2
}
